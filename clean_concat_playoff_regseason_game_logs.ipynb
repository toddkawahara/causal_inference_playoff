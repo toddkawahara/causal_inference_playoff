{
 "cells": [
  {
   "cell_type": "code",
   "execution_count": 2,
   "id": "6bb88c51-ec22-48d2-9055-f165f8837246",
   "metadata": {},
   "outputs": [],
   "source": [
    "import pandas as pd\n",
    "import numpy as np\n",
    "import polars as pl\n",
    "from unidecode import unidecode\n",
    "import pybaseball\n",
    "from pybaseball import playerid_reverse_lookup"
   ]
  },
  {
   "cell_type": "code",
   "execution_count": 3,
   "id": "55359c3c-875a-4e66-9d5c-30fa9ff62e4d",
   "metadata": {},
   "outputs": [
    {
     "name": "stdout",
     "output_type": "stream",
     "text": [
      "C:\\Users\\toddk\\env\\jupyter_playground\\notebooks\n"
     ]
    }
   ],
   "source": [
    "!cd"
   ]
  },
  {
   "cell_type": "code",
   "execution_count": 3,
   "id": "1bedb9c1-6134-4dc3-8840-4e85a1e545c7",
   "metadata": {},
   "outputs": [],
   "source": [
    "df_playoffs = pl.read_csv('/Users/toddk/OneDrive/Desktop/R_projects/causal_inference_playoff/df_playoff_games.csv')\n",
    "df_regseason = pl.read_csv('/Users/toddk/OneDrive/Desktop/R_projects/causal_inference_playoff/df_regseason_games.csv', ignore_errors = True)"
   ]
  },
  {
   "cell_type": "code",
   "execution_count": 4,
   "id": "eb2d0a69-a331-4f7d-8b63-48b1f06cb5f7",
   "metadata": {},
   "outputs": [
    {
     "name": "stdout",
     "output_type": "stream",
     "text": [
      "Gathering player lookup table. This may take a moment.\n"
     ]
    }
   ],
   "source": [
    "# getting fg ids needed\n",
    "fg_ids = df_regseason.select(pl.col('fg_playerid')).unique().to_series().to_list()\n",
    "\n",
    "# finding bam ids to fg ids\n",
    "id_matches = playerid_reverse_lookup(fg_ids, key_type='fangraphs')\n",
    "id_matches = pl.from_pandas(id_matches).select(pl.col('key_mlbam'), pl.col('key_fangraphs'))\n",
    "\n",
    "# joining mlbams to fg ids\n",
    "df_regseason = df_regseason.join(id_matches, how='left', left_on = 'fg_playerid', right_on = 'key_fangraphs')"
   ]
  },
  {
   "cell_type": "code",
   "execution_count": 5,
   "id": "1f41a91c-3398-4214-8a03-4028db533b7b",
   "metadata": {},
   "outputs": [],
   "source": [
    "# mapping teams to abbreviation\n",
    "team_mapping = {\n",
    "    'Arizona Diamondbacks': 'ARI', \n",
    "    'Atlanta Braves': 'ATL',\n",
    "     'Baltimore Orioles': 'BAL',\n",
    "     'Boston Red Sox': 'BOS',\n",
    "     'Chicago Cubs': 'CHC',\n",
    "     'Chicago White Sox': 'CHW',\n",
    "     'Cleveland Guardians': 'CLE',\n",
    "     'Cleveland Indians': 'CLE',\n",
    "     'Cincinnati Reds': 'CIN',\n",
    "     'Colorado Rockies': 'COL',\n",
    "     'Detroit Tigers': 'DET',\n",
    "     'Houston Astros': 'HOU',\n",
    "     'Kansas City Royals': 'KCR',\n",
    "     'Los Angeles Angels': 'LAA',\n",
    "     'Los Angeles Dodgers': 'LAD',\n",
    "     'Miami Marlins': 'MIA',\n",
    "     'Milwaukee Brewers': 'MIL',\n",
    "     'Minnesota Twins': 'MIN',\n",
    "     'New York Mets': 'NYM',\n",
    "     'New York Yankees': 'NYY',\n",
    "     'Oakland Athletics': 'OAK',\n",
    "     'Philadelphia Phillies': 'PHI',\n",
    "     'Pittsburgh Pirates': 'PIT',\n",
    "     'San Diego Padres': 'SDP',\n",
    "     'San Francisco Giants': 'SFG',\n",
    "     'Seattle Mariners': 'SEA',\n",
    "     'St. Louis Cardinals': 'STL',\n",
    "     'Tampa Bay Rays': 'TBR',\n",
    "     'Texas Rangers': 'TEX',\n",
    "     'Toronto Blue Jays': 'TOR',\n",
    "     'Washington Nationals': 'WSN'\n",
    "}\n",
    "df_playoffs = df_playoffs.with_columns(\n",
    "    home_team = pl.col('home_team').replace(team_mapping), \n",
    "    team = pl.col('team').replace(team_mapping), \n",
    "    batting_team = pl.col('batting_team').replace(team_mapping)\n",
    ")\n",
    "\n",
    "# renaming mlbam cols\n",
    "df_regseason = df_regseason.drop('fg_playerid').rename({'key_mlbam': 'mlbam_playerid'})"
   ]
  },
  {
   "cell_type": "code",
   "execution_count": 6,
   "id": "1dd25a72-39cc-42be-bafa-92cbe617f7c2",
   "metadata": {},
   "outputs": [],
   "source": [
    "# creating season player ids\n",
    "df_regseason = df_regseason.with_columns(\n",
    "    season_player_id = pl.col('year').cast(pl.String) + '_' + pl.col('mlbam_playerid').cast(pl.String)\n",
    ")\n",
    "\n",
    "df_playoffs = df_playoffs.with_columns(\n",
    "    season_player_id = pl.col('year').cast(pl.String) + '_' + pl.col('mlbam_playerid').cast(pl.String)\n",
    ")\n",
    "\n",
    "# creating season batting team ids\n",
    "df_regseason = df_regseason.with_columns(\n",
    "    season_batting_team_id = pl.col('year').cast(pl.String) + '_' + pl.col('batting_team').cast(pl.String)\n",
    ")\n",
    "\n",
    "df_playoffs = df_playoffs.with_columns(\n",
    "    season_batting_team_id = pl.col('year').cast(pl.String) + '_' + pl.col('batting_team').cast(pl.String)\n",
    ")\n",
    "\n",
    "# filtering playoff players to those with >75 IP in reg season\n",
    "regseason_players = df_regseason.select(pl.col('season_player_id')).unique().to_series().to_list()\n",
    "df_playoffs = df_playoffs.filter(df_playoffs['season_player_id'].is_in(regseason_players))"
   ]
  },
  {
   "cell_type": "code",
   "execution_count": 7,
   "id": "c38847ba-7707-4835-8582-4dd0bd84e08f",
   "metadata": {},
   "outputs": [],
   "source": [
    "# split reg season into pre sep and sep dfs\n",
    "df_regseason = df_regseason.with_columns(\n",
    "    month = pl.col('game_date').str.strptime(pl.Date, '%Y-%m-%d').dt.month()\n",
    ")\n",
    "df_regseason_sep = df_regseason.filter(pl.col('month') == 9)\n",
    "df_regseason_presep = df_regseason.filter(pl.col('month') < 9)\n",
    "\n",
    "# get presep fip\n",
    "df_presep_fips = (df_regseason_presep\n",
    "    .group_by('season_player_id')\n",
    "    .agg((pl.col('fip')*pl.col('ip')).sum()/pl.col('ip').sum())\n",
    "                 .rename({'fip': 'fip_presep'}))\n",
    "\n",
    "# join presep fips to sep and playoff dfs\n",
    "df_regseason_sep = df_regseason_sep.join(df_presep_fips, how = 'left', on='season_player_id')\n",
    "df_playoffs = df_playoffs.join(df_presep_fips, how = 'left', on='season_player_id')"
   ]
  },
  {
   "cell_type": "code",
   "execution_count": 8,
   "id": "53fca079-c055-4905-8f3c-d44f8fed3ec0",
   "metadata": {},
   "outputs": [],
   "source": [
    "# aligining cols\n",
    "df_regseason_sep = df_regseason_sep.select(['game_date', 'home_team', 'team', 'batting_team', 'season_batting_team_id', 'pitcher_name','year', 'mlbam_playerid', 'season_player_id', 'hr', 'bb', 'hbp', 'so', 'ip', 'fip', 'fip_presep', 'playoff_game', 'home_away'])\n",
    "df_playoffs = df_playoffs.select(['game_date', 'home_team', 'team', 'batting_team', 'season_batting_team_id', 'pitcher_name','year', 'mlbam_playerid', 'season_player_id', 'hr', 'bb', 'hbp', 'so', 'ip', 'fip', 'fip_presep', 'playoff_game', 'home_away'])\n",
    "\n",
    "# concating dfs\n",
    "df_gamelogs = pl.concat([df_playoffs, df_regseason_sep], how = 'vertical')\n",
    "\n",
    "# fill infinite fips with 99\n",
    "df_gamelogs = df_gamelogs.with_columns(\n",
    "    pl.when(pl.col('fip').is_infinite())\n",
    "        .then(99)\n",
    "        .otherwise(pl.col('fip'))\n",
    "        .alias('fip')\n",
    ")\n",
    "\n",
    "# remove accents from names\n",
    "df_gamelogs = df_gamelogs.with_columns(\n",
    "    pl.col('pitcher_name').map_elements(unidecode, return_dtype = pl.Utf8)\n",
    ")\n",
    "\n",
    "# drop null bam ids for players that debuted in 2024, one null fip, players that started in sep but not before\n",
    "df_gamelogs = df_gamelogs.drop_nulls(subset=['mlbam_playerid', 'fip', 'fip_presep'])"
   ]
  },
  {
   "cell_type": "code",
   "execution_count": 11,
   "id": "0008222e-bc93-4f92-8b76-9bd90f66d8a7",
   "metadata": {},
   "outputs": [],
   "source": [
    "df_gamelogs.write_csv('/Users/toddk/OneDrive/Desktop/R_projects/causal_inference_playoff/df_gamelogs.csv')"
   ]
  }
 ],
 "metadata": {
  "kernelspec": {
   "display_name": "Python 3 (ipykernel)",
   "language": "python",
   "name": "python3"
  },
  "language_info": {
   "codemirror_mode": {
    "name": "ipython",
    "version": 3
   },
   "file_extension": ".py",
   "mimetype": "text/x-python",
   "name": "python",
   "nbconvert_exporter": "python",
   "pygments_lexer": "ipython3",
   "version": "3.13.6"
  }
 },
 "nbformat": 4,
 "nbformat_minor": 5
}
